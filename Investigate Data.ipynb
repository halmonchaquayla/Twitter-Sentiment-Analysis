{
 "cells": [
  {
   "cell_type": "code",
   "execution_count": 1,
   "metadata": {
    "ExecuteTime": {
     "end_time": "2021-03-14T04:23:17.322291Z",
     "start_time": "2021-03-14T04:23:16.553657Z"
    }
   },
   "outputs": [],
   "source": [
    "import pandas as pd\n",
    "import numpy as np\n",
    "import matplotlib.pyplot as plt\n",
    "%matplotlib inline"
   ]
  },
  {
   "cell_type": "code",
   "execution_count": 2,
   "metadata": {
    "ExecuteTime": {
     "end_time": "2021-03-14T04:23:17.354398Z",
     "start_time": "2021-03-14T04:23:17.324299Z"
    }
   },
   "outputs": [],
   "source": [
    "df = pd.read_csv('data/judge-1377884607_tweet_product_company.csv', encoding='latin1')"
   ]
  },
  {
   "cell_type": "code",
   "execution_count": 3,
   "metadata": {
    "ExecuteTime": {
     "end_time": "2021-03-14T04:23:17.370452Z",
     "start_time": "2021-03-14T04:23:17.356405Z"
    }
   },
   "outputs": [],
   "source": [
    "df1 = df.drop('emotion_in_tweet_is_directed_at', axis=1)"
   ]
  },
  {
   "cell_type": "code",
   "execution_count": 4,
   "metadata": {
    "ExecuteTime": {
     "end_time": "2021-03-14T04:23:17.418612Z",
     "start_time": "2021-03-14T04:23:17.373462Z"
    }
   },
   "outputs": [
    {
     "data": {
      "text/html": [
       "<div>\n",
       "<style scoped>\n",
       "    .dataframe tbody tr th:only-of-type {\n",
       "        vertical-align: middle;\n",
       "    }\n",
       "\n",
       "    .dataframe tbody tr th {\n",
       "        vertical-align: top;\n",
       "    }\n",
       "\n",
       "    .dataframe thead th {\n",
       "        text-align: right;\n",
       "    }\n",
       "</style>\n",
       "<table border=\"1\" class=\"dataframe\">\n",
       "  <thead>\n",
       "    <tr style=\"text-align: right;\">\n",
       "      <th></th>\n",
       "      <th>tweet_text</th>\n",
       "      <th>target</th>\n",
       "    </tr>\n",
       "  </thead>\n",
       "  <tbody>\n",
       "    <tr>\n",
       "      <th>0</th>\n",
       "      <td>.@wesley83 I have a 3G iPhone. After 3 hrs twe...</td>\n",
       "      <td>Negative emotion</td>\n",
       "    </tr>\n",
       "    <tr>\n",
       "      <th>1</th>\n",
       "      <td>@jessedee Know about @fludapp ? Awesome iPad/i...</td>\n",
       "      <td>Positive emotion</td>\n",
       "    </tr>\n",
       "    <tr>\n",
       "      <th>2</th>\n",
       "      <td>@swonderlin Can not wait for #iPad 2 also. The...</td>\n",
       "      <td>Positive emotion</td>\n",
       "    </tr>\n",
       "    <tr>\n",
       "      <th>3</th>\n",
       "      <td>@sxsw I hope this year's festival isn't as cra...</td>\n",
       "      <td>Negative emotion</td>\n",
       "    </tr>\n",
       "    <tr>\n",
       "      <th>4</th>\n",
       "      <td>@sxtxstate great stuff on Fri #SXSW: Marissa M...</td>\n",
       "      <td>Positive emotion</td>\n",
       "    </tr>\n",
       "  </tbody>\n",
       "</table>\n",
       "</div>"
      ],
      "text/plain": [
       "                                          tweet_text            target\n",
       "0  .@wesley83 I have a 3G iPhone. After 3 hrs twe...  Negative emotion\n",
       "1  @jessedee Know about @fludapp ? Awesome iPad/i...  Positive emotion\n",
       "2  @swonderlin Can not wait for #iPad 2 also. The...  Positive emotion\n",
       "3  @sxsw I hope this year's festival isn't as cra...  Negative emotion\n",
       "4  @sxtxstate great stuff on Fri #SXSW: Marissa M...  Positive emotion"
      ]
     },
     "execution_count": 4,
     "metadata": {},
     "output_type": "execute_result"
    }
   ],
   "source": [
    "df1.rename(columns={'is_there_an_emotion_directed_at_a_brand_or_product':'target'}, \n",
    "          inplace=True)\n",
    "df1.head()"
   ]
  },
  {
   "cell_type": "code",
   "execution_count": 5,
   "metadata": {
    "ExecuteTime": {
     "end_time": "2021-03-14T04:23:19.080381Z",
     "start_time": "2021-03-14T04:23:17.420620Z"
    }
   },
   "outputs": [],
   "source": [
    "import nltk\n",
    "from nltk.tokenize import word_tokenize, sent_tokenize \n",
    "# nltk.download('punkt')"
   ]
  },
  {
   "cell_type": "code",
   "execution_count": 6,
   "metadata": {
    "ExecuteTime": {
     "end_time": "2021-03-14T04:23:19.159645Z",
     "start_time": "2021-03-14T04:23:19.082389Z"
    }
   },
   "outputs": [
    {
     "data": {
      "text/plain": [
       "0    .@wesley83 i have a 3g iphone. after 3 hrs twe...\n",
       "1    @jessedee know about @fludapp ? awesome ipad/i...\n",
       "2    @swonderlin can not wait for #ipad 2 also. the...\n",
       "3    @sxsw i hope this year's festival isn't as cra...\n",
       "4    @sxtxstate great stuff on fri #sxsw: marissa m...\n",
       "Name: lower_tweet, dtype: object"
      ]
     },
     "execution_count": 6,
     "metadata": {},
     "output_type": "execute_result"
    }
   ],
   "source": [
    "df1['lower_tweet'] = df1['tweet_text'].apply(lambda x: \" \".join(x.lower() for x in str(x).split()))\n",
    "df1['lower_tweet'].head()"
   ]
  },
  {
   "cell_type": "code",
   "execution_count": 7,
   "metadata": {
    "ExecuteTime": {
     "end_time": "2021-03-14T04:23:19.239911Z",
     "start_time": "2021-03-14T04:23:19.161652Z"
    }
   },
   "outputs": [
    {
     "data": {
      "text/plain": [
       "0    . i have a 3g iphone. after 3 hrs tweeting at,...\n",
       "1     know about ? awesome ipad/iphone app that you...\n",
       "2     can not wait for 2 also. they should sale the...\n",
       "3     i hope this year's festival isn't as crashy a...\n",
       "4     great stuff on fri: marissa mayer (google), t...\n",
       "Name: lower_tweet, dtype: object"
      ]
     },
     "execution_count": 7,
     "metadata": {},
     "output_type": "execute_result"
    }
   ],
   "source": [
    "df1['lower_tweet'] = df1['lower_tweet'].str.replace(\"\\s?([@#][\\w_-]+)\",'')\n",
    "df1['lower_tweet'].head()"
   ]
  },
  {
   "cell_type": "code",
   "execution_count": 8,
   "metadata": {
    "ExecuteTime": {
     "end_time": "2021-03-14T04:23:19.272017Z",
     "start_time": "2021-03-14T04:23:19.243924Z"
    }
   },
   "outputs": [
    {
     "data": {
      "text/plain": [
       "0    . i have a 3g iphone. after 3 hrs tweeting at,...\n",
       "1     know about ? awesome ipad/iphone app that you...\n",
       "2     can not wait for 2 also. they should sale the...\n",
       "3     i hope this year's festival isn't as crashy a...\n",
       "4     great stuff on fri: marissa mayer (google), t...\n",
       "Name: lower_tweet, dtype: object"
      ]
     },
     "execution_count": 8,
     "metadata": {},
     "output_type": "execute_result"
    }
   ],
   "source": [
    "df1['lower_tweet'] = df1['lower_tweet'].str.replace(\"({link})\",'')\n",
    "df1['lower_tweet'].head()"
   ]
  },
  {
   "cell_type": "code",
   "execution_count": 10,
   "metadata": {
    "ExecuteTime": {
     "end_time": "2021-03-14T04:23:19.608133Z",
     "start_time": "2021-03-14T04:23:19.579036Z"
    }
   },
   "outputs": [
    {
     "data": {
      "text/plain": [
       "0    . i have a  iphone. after hrs tweeting at, it ...\n",
       "1     know about ? awesome ipad/iphone app that you...\n",
       "2     can not wait for also. they should sale them ...\n",
       "3     i hope this year's festival isn't as crashy a...\n",
       "4     great stuff on fri: marissa mayer (google), t...\n",
       "Name: lower_tweet, dtype: object"
      ]
     },
     "execution_count": 10,
     "metadata": {},
     "output_type": "execute_result"
    }
   ],
   "source": [
    "df1['lower_tweet'] = df1['lower_tweet'].str.replace(\"\\d.?\",'')\n",
    "df1['lower_tweet'].head()"
   ]
  },
  {
   "cell_type": "code",
   "execution_count": 11,
   "metadata": {
    "ExecuteTime": {
     "end_time": "2021-03-14T04:23:19.688397Z",
     "start_time": "2021-03-14T04:23:19.610138Z"
    }
   },
   "outputs": [
    {
     "data": {
      "text/plain": [
       "0     i have a  iphone after hrs tweeting at it was...\n",
       "1     know about  awesome ipadiphone app that youll...\n",
       "2     can not wait for also they should sale them d...\n",
       "3     i hope this years festival isnt as crashy as ...\n",
       "4     great stuff on fri marissa mayer google tim o...\n",
       "Name: lower_tweet, dtype: object"
      ]
     },
     "execution_count": 11,
     "metadata": {},
     "output_type": "execute_result"
    }
   ],
   "source": [
    "df1['lower_tweet'] = df1['lower_tweet'].str.replace('[^\\w\\s]','')\n",
    "df1['lower_tweet'].head()"
   ]
  },
  {
   "cell_type": "code",
   "execution_count": null,
   "metadata": {},
   "outputs": [],
   "source": []
  }
 ],
 "metadata": {
  "kernelspec": {
   "display_name": "Python 3",
   "language": "python",
   "name": "python3"
  },
  "language_info": {
   "codemirror_mode": {
    "name": "ipython",
    "version": 3
   },
   "file_extension": ".py",
   "mimetype": "text/x-python",
   "name": "python",
   "nbconvert_exporter": "python",
   "pygments_lexer": "ipython3",
   "version": "3.8.5"
  },
  "toc": {
   "base_numbering": 1,
   "nav_menu": {},
   "number_sections": true,
   "sideBar": true,
   "skip_h1_title": false,
   "title_cell": "Table of Contents",
   "title_sidebar": "Contents",
   "toc_cell": false,
   "toc_position": {},
   "toc_section_display": true,
   "toc_window_display": false
  },
  "varInspector": {
   "cols": {
    "lenName": 16,
    "lenType": 16,
    "lenVar": 40
   },
   "kernels_config": {
    "python": {
     "delete_cmd_postfix": "",
     "delete_cmd_prefix": "del ",
     "library": "var_list.py",
     "varRefreshCmd": "print(var_dic_list())"
    },
    "r": {
     "delete_cmd_postfix": ") ",
     "delete_cmd_prefix": "rm(",
     "library": "var_list.r",
     "varRefreshCmd": "cat(var_dic_list()) "
    }
   },
   "types_to_exclude": [
    "module",
    "function",
    "builtin_function_or_method",
    "instance",
    "_Feature"
   ],
   "window_display": false
  }
 },
 "nbformat": 4,
 "nbformat_minor": 4
}
